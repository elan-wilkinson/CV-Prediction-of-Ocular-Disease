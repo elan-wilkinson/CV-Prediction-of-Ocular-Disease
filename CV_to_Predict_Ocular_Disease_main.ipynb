{
 "cells": [
  {
   "cell_type": "code",
   "execution_count": null,
   "id": "168dc2c4",
   "metadata": {},
   "outputs": [],
   "source": [
    "### Intro to AI Group 3 Final Project - Using CV to Predict Ocular Disease\n",
    "\n",
    "\n",
    "# introduction, comments, blah blah"
   ]
  },
  {
   "cell_type": "code",
   "execution_count": null,
   "metadata": {},
   "outputs": [],
   "source": [
    "#import libraries\n",
    "import numpy as np \n",
    "import pandas as pd\n",
    "import random\n",
    "import os\n",
    "from sklearn.model_selection import train_test_split\n",
    "import matplotlib.pyplot as plt\n",
    "from tqdm import tqdm\n",
    "import tkinter as tk\n",
    "from tkinter import filedialog\n",
    "\n",
    "\"\"\" need to import but Ben had issues installing tensorflow, cv2\n",
    "import cv2\n",
    "import tensorflow as tf\n",
    "from tensorflow.keras.layers import *\n",
    "from tensorflow.keras import backend as K\n",
    "from tensorflow.keras.models import Sequential\n",
    "from tensorflow.keras.preprocessing.image import ImageDataGenerator\n",
    "from tensorflow.keras.utils import get_custom_objects\n",
    "import efficientnet.tfkeras as efn\n",
    "from tensorflow.keras.preprocessing.image import ImageDataGenerator\n",
    "from tensorflow.keras.preprocessing.image import load_img, img_to_array\n",
    "\"\"\""
   ]
  },
  {
   "cell_type": "code",
   "execution_count": null,
   "metadata": {},
   "outputs": [],
   "source": [
    "## Find the file for the Main dataframe\n",
    "# Initialize the Tkinter root\n",
    "root = tk.Tk()\n",
    "root.withdraw() \n",
    "\n",
    "# Show a \"Select File\" dialog box and return the path to the selected file\n",
    "# User should select the 'data.xlsx' spreadsheet, likley in ../ocular-disease-recognition-odir5k/ODIR-5K/data.xlsx\n",
    "file_path = filedialog.askopenfilename(title=\"Select Excel File\")\n",
    "\n",
    "# Check if a folder was selected\n",
    "if file_path:\n",
    "    print(\"Selected file:\", file_path)\n",
    "else:\n",
    "    # This block executes if the user didn't select a folder\n",
    "    print(\"User did not select a file, cannot proceed. Please retry.\")\n"
   ]
  },
  {
   "cell_type": "code",
   "execution_count": null,
   "metadata": {},
   "outputs": [],
   "source": [
    "## Find the folder for the pre-processed images\n",
    "# Initialize the Tkinter root\n",
    "root = tk.Tk()\n",
    "root.withdraw() \n",
    "\n",
    "# Show a \"Select Folder\" dialog box and return the path to the selected folder\n",
    "# User should select the pre-processed images folder, likley in ../ocular-disease-recognition-odir5k/preprocessed_images\n",
    "Image_dir_root = filedialog.askdirectory(title=\"Select Image Directory\")\n",
    "\n",
    "# Check if a folder was selected\n",
    "if Image_dir_root :\n",
    "    print(\"Selected folder:\", Image_dir_root)\n",
    "else:\n",
    "    # This block executes if the user didn't select a folder\n",
    "    print(\"User did not select a folder, cannot proceed. Please retry.\")"
   ]
  },
  {
   "cell_type": "code",
   "execution_count": null,
   "metadata": {},
   "outputs": [],
   "source": [
    "#Structure the image and dataframe directories\n",
    "\n",
    "# Create a DataFrame from the Excel file\n",
    "Main_df = pd.read_excel(file_path)\n",
    "\n",
    "Main_df.head(20)\n"
   ]
  },
  {
   "cell_type": "code",
   "execution_count": null,
   "metadata": {},
   "outputs": [],
   "source": [
    "\n",
    "# Adding in filepaths to the images assocuated with left and right fundus images\n",
    "Main_df['left-filepath'] = Main_df['Left-Fundus'].apply(lambda x: os.path.join(Image_dir_root, str(x)))\n",
    "Main_df['right-filepath'] = Main_df['Right-Fundus'].apply(lambda x: os.path.join(Image_dir_root, str(x)))\n",
    "\n",
    "\n",
    "# Check if the image files exist (optional?)\n",
    "Main_df['left-filepath_exists'] = Main_df['left-filepath'].apply(os.path.exists)\n",
    "Main_df['right-filepath_exists'] = Main_df['right-filepath'].apply(os.path.exists)\n",
    "\n",
    "\n",
    "Main_df.head(20)\n",
    "\n"
   ]
  },
  {
   "cell_type": "code",
   "execution_count": null,
   "metadata": {},
   "outputs": [],
   "source": []
  }
 ],
 "metadata": {
  "kernelspec": {
   "display_name": "Python 3 (ipykernel)",
   "language": "python",
   "name": "python3"
  },
  "language_info": {
   "codemirror_mode": {
    "name": "ipython",
    "version": 3
   },
   "file_extension": ".py",
   "mimetype": "text/x-python",
   "name": "python",
   "nbconvert_exporter": "python",
   "pygments_lexer": "ipython3",
   "version": "3.11.4"
  }
 },
 "nbformat": 4,
 "nbformat_minor": 5
}
