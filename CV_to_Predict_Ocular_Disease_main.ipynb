{
 "cells": [
  {
   "cell_type": "code",
   "execution_count": null,
   "id": "168dc2c4",
   "metadata": {},
   "outputs": [],
   "source": [
    "### Intro to AI Group 3 Final Project - Using CV to Predict Ocular Disease\n",
    "\n",
    "\n",
    "### Ben was here ###"
   ]
  }
 ],
 "metadata": {
  "kernelspec": {
   "display_name": "Python 3 (ipykernel)",
   "language": "python",
   "name": "python3"
  },
  "language_info": {
   "codemirror_mode": {
    "name": "ipython",
    "version": 3
   },
   "file_extension": ".py",
   "mimetype": "text/x-python",
   "name": "python",
   "nbconvert_exporter": "python",
   "pygments_lexer": "ipython3",
   "version": "3.11.4"
  }
 },
 "nbformat": 4,
 "nbformat_minor": 5
}
